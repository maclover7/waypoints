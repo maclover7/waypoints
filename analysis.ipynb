{
 "cells": [
  {
   "cell_type": "markdown",
   "id": "034a61bc-cf10-4e45-b438-c81ff093ff66",
   "metadata": {},
   "source": [
    "# Pittsburgh-area aviation waypoints"
   ]
  },
  {
   "cell_type": "code",
   "execution_count": 1,
   "id": "54cfa1db-0cef-40bd-af08-b7ba466ebcef",
   "metadata": {},
   "outputs": [],
   "source": [
    "import geopandas as gpd\n",
    "from shapely.geometry import Point\n",
    "import re\n",
    "import requests"
   ]
  },
  {
   "cell_type": "markdown",
   "id": "6c71c7ad-7b2e-447c-b087-54f655144f27",
   "metadata": {},
   "source": [
    "### Fetch raw waypoints from the FAA"
   ]
  },
  {
   "cell_type": "code",
   "execution_count": 2,
   "id": "534acfd2-89c7-4299-9e67-e654144b3781",
   "metadata": {},
   "outputs": [],
   "source": [
    "waypoints = []\n",
    "\n",
    "# First 1,000 waypoints\n",
    "search_data = {\n",
    "    'dataType': 'LIDFIXESWAYPOINTS',\n",
    "    'start': 0,\n",
    "    'length': 1000,\n",
    "    'sortcolumn': 'fix_identifier',\n",
    "    'sortdir': 'asc',\n",
    "    'searchval': 'PENNSYLVANIA',\n",
    "    'r': 'NTAg7a9ZdvAPgPALayuxIQYO',\n",
    "}\n",
    "\n",
    "response = requests.post('https://nfdc.faa.gov/nfdcApps/controllers/PublicDataController/getLidData', data=search_data)\n",
    "response = response.json()\n",
    "waypoints = waypoints + response['data']\n",
    "\n",
    "# Next 1,000 waypoints\n",
    "search_data['start'] = 1000\n",
    "response = requests.post('https://nfdc.faa.gov/nfdcApps/controllers/PublicDataController/getLidData', data=search_data)\n",
    "response = response.json()\n",
    "waypoints = waypoints + response['data']"
   ]
  },
  {
   "cell_type": "code",
   "execution_count": 3,
   "id": "e7769643-e122-4c54-a9f9-b503560e521a",
   "metadata": {},
   "outputs": [
    {
     "name": "stdout",
     "output_type": "stream",
     "text": [
      "[1651, 1651]\n"
     ]
    }
   ],
   "source": [
    "print([response['totalrows'], len(waypoints)])"
   ]
  },
  {
   "cell_type": "markdown",
   "id": "eb2aa86c-049d-4822-a743-24f2a1df031b",
   "metadata": {},
   "source": [
    "### Convert raw waypoints to parsed waypoints"
   ]
  },
  {
   "cell_type": "code",
   "execution_count": 4,
   "id": "3e8cf235-f394-417c-be5e-d034f186b235",
   "metadata": {},
   "outputs": [],
   "source": [
    "for waypoint in waypoints:\n",
    "    coords = waypoint['description'].split(' ')[-2:]\n",
    "\n",
    "    lat = re.findall(r'(\\d+)-(\\d+)-(\\d+).(\\d+)N', coords[0])\n",
    "    lat = (float(lat[0][0])) + (float(lat[0][1]) / 60.0) + ((float(lat[0][2]) + (.0001 * float(lat[0][3]))) / 3600)\n",
    "\n",
    "    lon = re.findall(r'(\\d+)-(\\d+)-(\\d+).(\\d+)W', coords[1])\n",
    "    lon = (float(lon[0][0])) + (float(lon[0][1]) / 60) + ((float(lon[0][2]) + (.0001 * float(lon[0][3]))) / 3600)\n",
    "\n",
    "    waypoint['coords'] = [-1 * lon, lat]"
   ]
  },
  {
   "cell_type": "markdown",
   "id": "34ce326a-8b07-4e8b-bf55-25edb19885c1",
   "metadata": {},
   "source": [
    "### Filter waypoints to be within metro Pittsburgh"
   ]
  },
  {
   "cell_type": "code",
   "execution_count": 5,
   "id": "7ce1bcdd-1528-45fb-a815-fcadcfad2311",
   "metadata": {},
   "outputs": [],
   "source": [
    "# South of MYRON\n",
    "south_of = [w for w in waypoints if w['fix_identifier'] == 'MYRON'][0]['coords'][1]\n",
    "waypoints = [w for w in waypoints if w['coords'][1] <= south_of]\n",
    "\n",
    "# North of CRSBY\n",
    "north_of = [w for w in waypoints if w['fix_identifier'] == 'CRSBY'][0]['coords'][1]\n",
    "waypoints = [w for w in waypoints if w['coords'][1] >= north_of]\n",
    "\n",
    "# West of Trafford\n",
    "waypoints = [w for w in waypoints if w['coords'][0] < -79.8] "
   ]
  },
  {
   "cell_type": "code",
   "execution_count": 6,
   "id": "db024e22-d69c-4ef2-a0fc-e5f135c87268",
   "metadata": {},
   "outputs": [
    {
     "data": {
      "text/plain": [
       "103"
      ]
     },
     "execution_count": 6,
     "metadata": {},
     "output_type": "execute_result"
    }
   ],
   "source": [
    "len(waypoints)"
   ]
  },
  {
   "cell_type": "markdown",
   "id": "2132802e-d5a7-486b-acac-667dbfdcbea0",
   "metadata": {},
   "source": [
    "### Convert waypoints to dataframe"
   ]
  },
  {
   "cell_type": "code",
   "execution_count": 7,
   "id": "a145541e-1e31-4732-9f50-820cfbf1a58d",
   "metadata": {},
   "outputs": [],
   "source": [
    "df = gpd.GeoDataFrame({\n",
    "    'identifier': [w['fix_identifier'] for w in waypoints],\n",
    "    'geometry': [Point(w['coords']) for w in waypoints]\n",
    "})"
   ]
  },
  {
   "cell_type": "code",
   "execution_count": 8,
   "id": "4c8595ed-5767-4170-8f69-3eed0254c4f1",
   "metadata": {},
   "outputs": [],
   "source": [
    "df.to_file('points.json', driver='GeoJSON')"
   ]
  }
 ],
 "metadata": {
  "kernelspec": {
   "display_name": "Python 3 (ipykernel)",
   "language": "python",
   "name": "python3"
  },
  "language_info": {
   "codemirror_mode": {
    "name": "ipython",
    "version": 3
   },
   "file_extension": ".py",
   "mimetype": "text/x-python",
   "name": "python",
   "nbconvert_exporter": "python",
   "pygments_lexer": "ipython3",
   "version": "3.9.15"
  }
 },
 "nbformat": 4,
 "nbformat_minor": 5
}
