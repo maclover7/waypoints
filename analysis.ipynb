{
 "cells": [
  {
   "cell_type": "markdown",
   "id": "034a61bc-cf10-4e45-b438-c81ff093ff66",
   "metadata": {},
   "source": [
    "# Pittsburgh-area aviation waypoints"
   ]
  },
  {
   "cell_type": "code",
   "execution_count": 1,
   "id": "54cfa1db-0cef-40bd-af08-b7ba466ebcef",
   "metadata": {},
   "outputs": [],
   "source": [
    "import requests"
   ]
  },
  {
   "cell_type": "markdown",
   "id": "6c71c7ad-7b2e-447c-b087-54f655144f27",
   "metadata": {},
   "source": [
    "### Fetch raw waypoints from the FAA"
   ]
  },
  {
   "cell_type": "code",
   "execution_count": 2,
   "id": "534acfd2-89c7-4299-9e67-e654144b3781",
   "metadata": {},
   "outputs": [],
   "source": [
    "waypoints = []\n",
    "\n",
    "# First 1,000 waypoints\n",
    "search_data = {\n",
    "    'dataType': 'LIDFIXESWAYPOINTS',\n",
    "    'start': 0,\n",
    "    'length': 1000,\n",
    "    'sortcolumn': 'fix_identifier',\n",
    "    'sortdir': 'asc',\n",
    "    'searchval': 'PENNSYLVANIA',\n",
    "    'r': 'NTAg7a9ZdvAPgPALayuxIQYO',\n",
    "}\n",
    "\n",
    "response = requests.post('https://nfdc.faa.gov/nfdcApps/controllers/PublicDataController/getLidData', data=search_data)\n",
    "response = response.json()\n",
    "waypoints = waypoints + response['data']\n",
    "\n",
    "# Next 1,000 waypoints\n",
    "search_data['start'] = 1000\n",
    "response = requests.post('https://nfdc.faa.gov/nfdcApps/controllers/PublicDataController/getLidData', data=search_data)\n",
    "response = response.json()\n",
    "waypoints = waypoints + response['data']"
   ]
  },
  {
   "cell_type": "code",
   "execution_count": 3,
   "id": "e7769643-e122-4c54-a9f9-b503560e521a",
   "metadata": {},
   "outputs": [
    {
     "name": "stdout",
     "output_type": "stream",
     "text": [
      "[1651, 1651]\n"
     ]
    }
   ],
   "source": [
    "print([response['totalrows'], len(waypoints)])"
   ]
  },
  {
   "cell_type": "markdown",
   "id": "2132802e-d5a7-486b-acac-667dbfdcbea0",
   "metadata": {},
   "source": [
    "### Convert raw waypoints to dataframe"
   ]
  }
 ],
 "metadata": {
  "kernelspec": {
   "display_name": "Python 3 (ipykernel)",
   "language": "python",
   "name": "python3"
  },
  "language_info": {
   "codemirror_mode": {
    "name": "ipython",
    "version": 3
   },
   "file_extension": ".py",
   "mimetype": "text/x-python",
   "name": "python",
   "nbconvert_exporter": "python",
   "pygments_lexer": "ipython3",
   "version": "3.9.15"
  }
 },
 "nbformat": 4,
 "nbformat_minor": 5
}
